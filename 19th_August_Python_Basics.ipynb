{
  "nbformat": 4,
  "nbformat_minor": 0,
  "metadata": {
    "colab": {
      "provenance": []
    },
    "kernelspec": {
      "name": "python3",
      "display_name": "Python 3"
    },
    "language_info": {
      "name": "python"
    }
  },
  "cells": [
    {
      "cell_type": "markdown",
      "source": [
        "#  Python basics Variables"
      ],
      "metadata": {
        "id": "oMi5PWo0fxHS"
      }
    },
    {
      "cell_type": "markdown",
      "source": [
        "1. Declare two variables, `x` and `y`, and assign them integer values.\n",
        "Swap the values of these variables without using any temporary\n",
        "variable. bold text"
      ],
      "metadata": {
        "id": "934U5wv2OjSl"
      }
    },
    {
      "cell_type": "markdown",
      "source": [
        "Method 1"
      ],
      "metadata": {
        "id": "g4Z5k2g2OsQr"
      }
    },
    {
      "cell_type": "code",
      "source": [
        "x = input('Enter value of x: ')\n",
        "y = input('Enter value of y: ')"
      ],
      "metadata": {
        "colab": {
          "base_uri": "https://localhost:8080/"
        },
        "id": "D4s_EhqROl_t",
        "outputId": "3bc92bfb-a891-4b90-a012-6953f1fcf2d7"
      },
      "execution_count": 6,
      "outputs": [
        {
          "name": "stdout",
          "output_type": "stream",
          "text": [
            "Enter value of x: 12\n",
            "Enter value of y: 45\n"
          ]
        }
      ]
    },
    {
      "cell_type": "code",
      "source": [
        "x, y = y, x"
      ],
      "metadata": {
        "id": "qa3yzs_hOxmI"
      },
      "execution_count": 7,
      "outputs": []
    },
    {
      "cell_type": "code",
      "source": [
        "print(\"The swapped value of x:\", x)\n",
        "print(\"The swapped value of y:\", y)"
      ],
      "metadata": {
        "colab": {
          "base_uri": "https://localhost:8080/"
        },
        "id": "J7HtiR10OzsM",
        "outputId": "c65f2793-8ac1-4e34-a9cb-bcc642eedfac"
      },
      "execution_count": 8,
      "outputs": [
        {
          "output_type": "stream",
          "name": "stdout",
          "text": [
            "The swapped value of x: 45\n",
            "The swapped value of y: 12\n"
          ]
        }
      ]
    },
    {
      "cell_type": "markdown",
      "source": [
        "Method 2"
      ],
      "metadata": {
        "id": "SVRPfHg1O5k4"
      }
    },
    {
      "cell_type": "code",
      "source": [
        "x = 10000\n",
        "y = 5676"
      ],
      "metadata": {
        "id": "-mUTL82AO4HS"
      },
      "execution_count": 9,
      "outputs": []
    },
    {
      "cell_type": "code",
      "source": [
        "x = x + y"
      ],
      "metadata": {
        "id": "FLjp4f6HPAf8"
      },
      "execution_count": 10,
      "outputs": []
    },
    {
      "cell_type": "code",
      "source": [
        "x"
      ],
      "metadata": {
        "colab": {
          "base_uri": "https://localhost:8080/"
        },
        "id": "7V-sDYBRPDL6",
        "outputId": "bd1e429b-196d-4422-fc08-eb0cd45b63d0"
      },
      "execution_count": 11,
      "outputs": [
        {
          "output_type": "execute_result",
          "data": {
            "text/plain": [
              "15676"
            ]
          },
          "metadata": {},
          "execution_count": 11
        }
      ]
    },
    {
      "cell_type": "code",
      "source": [
        "y = x - y"
      ],
      "metadata": {
        "id": "JaOTsQ1JPFzI"
      },
      "execution_count": 12,
      "outputs": []
    },
    {
      "cell_type": "code",
      "source": [
        "y"
      ],
      "metadata": {
        "colab": {
          "base_uri": "https://localhost:8080/"
        },
        "id": "-kpCrEvTPIw0",
        "outputId": "4afe7962-e660-485b-94b6-cf87ca5b6557"
      },
      "execution_count": 13,
      "outputs": [
        {
          "output_type": "execute_result",
          "data": {
            "text/plain": [
              "10000"
            ]
          },
          "metadata": {},
          "execution_count": 13
        }
      ]
    },
    {
      "cell_type": "code",
      "source": [
        "x = x - y"
      ],
      "metadata": {
        "id": "cmfsbZIAPKu4"
      },
      "execution_count": 14,
      "outputs": []
    },
    {
      "cell_type": "code",
      "source": [
        "x"
      ],
      "metadata": {
        "colab": {
          "base_uri": "https://localhost:8080/"
        },
        "id": "1xJP7aEOPPSx",
        "outputId": "7a32d493-83f0-4a66-cf5e-6c0d099cb76b"
      },
      "execution_count": 15,
      "outputs": [
        {
          "output_type": "execute_result",
          "data": {
            "text/plain": [
              "5676"
            ]
          },
          "metadata": {},
          "execution_count": 15
        }
      ]
    },
    {
      "cell_type": "code",
      "source": [
        "print(\"After Swapping: x =\", x, \" y =\", y)"
      ],
      "metadata": {
        "colab": {
          "base_uri": "https://localhost:8080/"
        },
        "id": "_Z70Uj3wPQRG",
        "outputId": "79150a7b-9c91-4d3f-f4e7-031b31298de6"
      },
      "execution_count": 16,
      "outputs": [
        {
          "output_type": "stream",
          "name": "stdout",
          "text": [
            "After Swapping: x = 5676  y = 10000\n"
          ]
        }
      ]
    },
    {
      "cell_type": "markdown",
      "source": [
        "2. Create a program that calculates the area of a rectangle. Take the length and width as inputs from the user and store them in variables. Calculate and display the area."
      ],
      "metadata": {
        "id": "L-NZhhHePUZJ"
      }
    },
    {
      "cell_type": "code",
      "source": [
        "l = input(\"Enter the length of rectangle: \")\n",
        "w = input(\"Enter the width of rectangle: \")"
      ],
      "metadata": {
        "colab": {
          "base_uri": "https://localhost:8080/"
        },
        "id": "H_yK1YS0PYFG",
        "outputId": "7c5cebb2-7c3e-4b53-f1b6-f3513c7bb5e6"
      },
      "execution_count": 17,
      "outputs": [
        {
          "name": "stdout",
          "output_type": "stream",
          "text": [
            "Enter the length of rectangle: 23\n",
            "Enter the width of rectangle: 34\n"
          ]
        }
      ]
    },
    {
      "cell_type": "code",
      "source": [
        "area = float(l) * float(w)"
      ],
      "metadata": {
        "id": "q57yM0EuPd7G"
      },
      "execution_count": 18,
      "outputs": []
    },
    {
      "cell_type": "code",
      "source": [
        "print(area)"
      ],
      "metadata": {
        "colab": {
          "base_uri": "https://localhost:8080/"
        },
        "id": "ytW-A1g9PhZM",
        "outputId": "42ce5b91-2660-4175-c469-4afbf451d23a"
      },
      "execution_count": 19,
      "outputs": [
        {
          "output_type": "stream",
          "name": "stdout",
          "text": [
            "782.0\n"
          ]
        }
      ]
    },
    {
      "cell_type": "markdown",
      "source": [
        "3. Write a Python program that converts temperature from Celsius to Fahrenheit. Take the temperature in Celsius as input, store it in a variable, convert it to Fahrenheit, and display the result."
      ],
      "metadata": {
        "id": "7dmqAQzUPlOg"
      }
    },
    {
      "cell_type": "code",
      "execution_count": 2,
      "metadata": {
        "colab": {
          "base_uri": "https://localhost:8080/"
        },
        "id": "cNjQaV3jMZRm",
        "outputId": "24788c06-84b1-4af8-848d-f83eed17558f"
      },
      "outputs": [
        {
          "name": "stdout",
          "output_type": "stream",
          "text": [
            "Enter the temperature in Celsius: 25\n"
          ]
        }
      ],
      "source": [
        "temp_in_C = input(\"Enter the temperature in Celsius: \")"
      ]
    },
    {
      "cell_type": "code",
      "source": [
        "F = (9/5) * float(temp_in_C) + 32  # formula for conversion"
      ],
      "metadata": {
        "id": "xce-knOwMfZY"
      },
      "execution_count": 3,
      "outputs": []
    },
    {
      "cell_type": "code",
      "source": [
        "F"
      ],
      "metadata": {
        "colab": {
          "base_uri": "https://localhost:8080/"
        },
        "id": "pwuWXjtsMkQc",
        "outputId": "025c77b0-b4a4-4f56-e2e4-33f72000651c"
      },
      "execution_count": 3,
      "outputs": [
        {
          "output_type": "execute_result",
          "data": {
            "text/plain": [
              "53.6"
            ]
          },
          "metadata": {},
          "execution_count": 3
        }
      ]
    },
    {
      "cell_type": "code",
      "source": [
        "print(\"Temperature in Fahrenheit: \", F)"
      ],
      "metadata": {
        "colab": {
          "base_uri": "https://localhost:8080/"
        },
        "id": "QQ4Tq5YqMmua",
        "outputId": "da14125b-0f65-4cd9-bf52-9060b39c706d"
      },
      "execution_count": 5,
      "outputs": [
        {
          "output_type": "stream",
          "name": "stdout",
          "text": [
            "Temperature in Fahrenheit:  53.6\n"
          ]
        }
      ]
    },
    {
      "cell_type": "markdown",
      "source": [
        "# String Based Questions"
      ],
      "metadata": {
        "id": "nfn2zdm2g52o"
      }
    },
    {
      "cell_type": "markdown",
      "source": [
        "1. Write a Python program that takes a string as input and prints the\n",
        "length of the string. bold text"
      ],
      "metadata": {
        "id": "ns__YCtZP5zO"
      }
    },
    {
      "cell_type": "code",
      "source": [
        "s = input()"
      ],
      "metadata": {
        "colab": {
          "base_uri": "https://localhost:8080/"
        },
        "id": "MCu6IhTnMoIe",
        "outputId": "d55a8ea6-f355-498e-a00a-a3a7be04c895"
      },
      "execution_count": 24,
      "outputs": [
        {
          "name": "stdout",
          "output_type": "stream",
          "text": [
            "thelengthof \n"
          ]
        }
      ]
    },
    {
      "cell_type": "code",
      "source": [
        "l = len(s)"
      ],
      "metadata": {
        "id": "CBCRzfViQDCN"
      },
      "execution_count": 25,
      "outputs": []
    },
    {
      "cell_type": "code",
      "source": [
        "print(l)"
      ],
      "metadata": {
        "colab": {
          "base_uri": "https://localhost:8080/"
        },
        "id": "40AOLWYpQNpd",
        "outputId": "726d3e47-d007-4b8c-e7f7-72d768f32e36"
      },
      "execution_count": 26,
      "outputs": [
        {
          "output_type": "stream",
          "name": "stdout",
          "text": [
            "12\n"
          ]
        }
      ]
    },
    {
      "cell_type": "markdown",
      "source": [
        "2. Create a program that takes a sentence from the user and counts the\n",
        "number of vowels (a, e, i, o, u) in the string. bold text"
      ],
      "metadata": {
        "id": "TiyIabI_QzfY"
      }
    },
    {
      "cell_type": "code",
      "source": [
        "sentence = input('Whats your input: ')"
      ],
      "metadata": {
        "colab": {
          "base_uri": "https://localhost:8080/"
        },
        "id": "G7w_WwDFQPLL",
        "outputId": "476b3480-d3b0-4f77-d371-f1bd1a156728"
      },
      "execution_count": 1,
      "outputs": [
        {
          "name": "stdout",
          "output_type": "stream",
          "text": [
            "Whats your input: colab paid service\n"
          ]
        }
      ]
    },
    {
      "cell_type": "code",
      "source": [
        "sentence_lower = sentence.lower() # making the sentence in lower case so that it can be case-insensitive\n",
        "vowels = ['a', 'e', 'i', 'o', 'u']\n",
        "count = 0                          # setting initial counter to Zero"
      ],
      "metadata": {
        "id": "NJQAUzjA_CI9"
      },
      "execution_count": 4,
      "outputs": []
    },
    {
      "cell_type": "code",
      "source": [
        "for character in sentence_lower:\n",
        "  if character in vowels:\n",
        "    count += 1"
      ],
      "metadata": {
        "id": "-KmHVZ1o_f_-"
      },
      "execution_count": 5,
      "outputs": []
    },
    {
      "cell_type": "code",
      "source": [
        "print(\"Number of vowels in the given string is: \", count)"
      ],
      "metadata": {
        "colab": {
          "base_uri": "https://localhost:8080/"
        },
        "id": "KzZzo0AQ_4a1",
        "outputId": "59c88853-7b8e-4494-d9ef-09f65372b213"
      },
      "execution_count": 6,
      "outputs": [
        {
          "output_type": "stream",
          "name": "stdout",
          "text": [
            "Number of vowels in the given string is:  7\n"
          ]
        }
      ]
    },
    {
      "cell_type": "markdown",
      "source": [
        "3. Given a string, reverse the order of characters using string slicing and\n",
        "print the reversed string. bold text"
      ],
      "metadata": {
        "id": "bvEXESWcAO53"
      }
    },
    {
      "cell_type": "code",
      "source": [
        "sentence = input('Whats your input: ')"
      ],
      "metadata": {
        "colab": {
          "base_uri": "https://localhost:8080/"
        },
        "id": "6RrrqXQC_8yt",
        "outputId": "789a7339-3155-413c-bb51-84ffe9638ed2"
      },
      "execution_count": 9,
      "outputs": [
        {
          "name": "stdout",
          "output_type": "stream",
          "text": [
            "Whats your input: colab paid service\n"
          ]
        }
      ]
    },
    {
      "cell_type": "code",
      "source": [
        "sentence_lower = sentence.lower()  # making the sentence in lower case so that it can be case-insensitive\n",
        "reverse_string = sentence_lower [::-1]"
      ],
      "metadata": {
        "id": "V0QPpTTDAjRX"
      },
      "execution_count": 15,
      "outputs": []
    },
    {
      "cell_type": "code",
      "source": [
        "reverse_string"
      ],
      "metadata": {
        "colab": {
          "base_uri": "https://localhost:8080/",
          "height": 35
        },
        "id": "k3VLe-EjBAM6",
        "outputId": "0436e5a3-2d10-47e4-e7f7-e9df8f621504"
      },
      "execution_count": 16,
      "outputs": [
        {
          "output_type": "execute_result",
          "data": {
            "text/plain": [
              "'ecivres diap baloc'"
            ],
            "application/vnd.google.colaboratory.intrinsic+json": {
              "type": "string"
            }
          },
          "metadata": {},
          "execution_count": 16
        }
      ]
    },
    {
      "cell_type": "markdown",
      "source": [
        "4. Write a program that takes a string as input and checks if it is a\n",
        "palindrome (reads the same forwards and backwards). bold text"
      ],
      "metadata": {
        "id": "p3L0s1oDDSc6"
      }
    },
    {
      "cell_type": "code",
      "source": [
        "sentence_forward = input('Whats your input: ').lower()  # making the sentence in lower case so that it can be case-insensitive"
      ],
      "metadata": {
        "colab": {
          "base_uri": "https://localhost:8080/"
        },
        "id": "2utjrbyODTdT",
        "outputId": "27c1d375-fb72-4cb9-b960-c250d96aecde"
      },
      "execution_count": 34,
      "outputs": [
        {
          "name": "stdout",
          "output_type": "stream",
          "text": [
            "Whats your input: Madam, I'm Adam\n"
          ]
        }
      ]
    },
    {
      "cell_type": "code",
      "source": [
        "sentence_forward"
      ],
      "metadata": {
        "colab": {
          "base_uri": "https://localhost:8080/",
          "height": 35
        },
        "id": "jjYkbLqLEg9s",
        "outputId": "7f653938-dfbe-4d53-abed-003f847019bd"
      },
      "execution_count": 48,
      "outputs": [
        {
          "output_type": "execute_result",
          "data": {
            "text/plain": [
              "\"madam, i'm adam\""
            ],
            "application/vnd.google.colaboratory.intrinsic+json": {
              "type": "string"
            }
          },
          "metadata": {},
          "execution_count": 48
        }
      ]
    },
    {
      "cell_type": "code",
      "source": [
        "punctuations = '''!()-[]{};:'\"\\,<>./?@#$%^&*_~'''    # defining punctuations"
      ],
      "metadata": {
        "id": "xuHvZLgUdaxH"
      },
      "execution_count": 54,
      "outputs": []
    },
    {
      "cell_type": "code",
      "source": [
        "no_punct = \"\"                                         # removing the punctuations to remove the chance of error due to punctuations and replacing it with blank space\n",
        "for char in sentence_forward:\n",
        "   if char not in punctuations:\n",
        "       no_punct = no_punct + char"
      ],
      "metadata": {
        "id": "dvnWgKGRdpge"
      },
      "execution_count": 55,
      "outputs": []
    },
    {
      "cell_type": "code",
      "source": [
        "no_punct"
      ],
      "metadata": {
        "colab": {
          "base_uri": "https://localhost:8080/",
          "height": 35
        },
        "id": "MFycXTrCd45H",
        "outputId": "b4f26ef0-1207-45fb-e458-59014fb7293a"
      },
      "execution_count": 56,
      "outputs": [
        {
          "output_type": "execute_result",
          "data": {
            "text/plain": [
              "'madam im adam'"
            ],
            "application/vnd.google.colaboratory.intrinsic+json": {
              "type": "string"
            }
          },
          "metadata": {},
          "execution_count": 56
        }
      ]
    },
    {
      "cell_type": "code",
      "source": [
        "updated_sentence_forward = no_punct.replace(\" \", \"\")   # removing the blank spaces"
      ],
      "metadata": {
        "id": "Tpq-VrngFrZp"
      },
      "execution_count": 57,
      "outputs": []
    },
    {
      "cell_type": "code",
      "source": [
        "updated_sentence_forward"
      ],
      "metadata": {
        "colab": {
          "base_uri": "https://localhost:8080/",
          "height": 35
        },
        "id": "zcJ0PP3DGZYE",
        "outputId": "5726594a-695f-4f89-95f1-8779fb8d931b"
      },
      "execution_count": 58,
      "outputs": [
        {
          "output_type": "execute_result",
          "data": {
            "text/plain": [
              "'madamimadam'"
            ],
            "application/vnd.google.colaboratory.intrinsic+json": {
              "type": "string"
            }
          },
          "metadata": {},
          "execution_count": 58
        }
      ]
    },
    {
      "cell_type": "code",
      "source": [
        "sentence_backword = updated_sentence_forward [::-1]    # reversing the string"
      ],
      "metadata": {
        "id": "1zGeDgnODd9m"
      },
      "execution_count": 59,
      "outputs": []
    },
    {
      "cell_type": "code",
      "source": [
        "sentence_backword"
      ],
      "metadata": {
        "colab": {
          "base_uri": "https://localhost:8080/",
          "height": 35
        },
        "id": "A-KB0yA5FedM",
        "outputId": "c002b3ae-38a1-4621-ada6-656d5ff6a81c"
      },
      "execution_count": 60,
      "outputs": [
        {
          "output_type": "execute_result",
          "data": {
            "text/plain": [
              "'madamimadam'"
            ],
            "application/vnd.google.colaboratory.intrinsic+json": {
              "type": "string"
            }
          },
          "metadata": {},
          "execution_count": 60
        }
      ]
    },
    {
      "cell_type": "code",
      "source": [
        "if updated_sentence_forward == sentence_backword:       # checking for palindrome\n",
        "  print('It is palindrome')\n",
        "else:\n",
        "  print('It is not palindrome')\n"
      ],
      "metadata": {
        "colab": {
          "base_uri": "https://localhost:8080/"
        },
        "id": "z4ba89HMD5Bv",
        "outputId": "3eaa4716-4821-4955-fa5c-61fd9a72cbfd"
      },
      "execution_count": 61,
      "outputs": [
        {
          "output_type": "stream",
          "name": "stdout",
          "text": [
            "It is palindrome\n"
          ]
        }
      ]
    },
    {
      "cell_type": "markdown",
      "source": [
        "5. Create a program that takes a string as input and removes all the\n",
        "spaces from it. Print the modified string without spaces. bold text"
      ],
      "metadata": {
        "id": "urI9cCgdePwP"
      }
    },
    {
      "cell_type": "code",
      "source": [
        "my_string = input('Whats your input: ')"
      ],
      "metadata": {
        "colab": {
          "base_uri": "https://localhost:8080/"
        },
        "id": "FnlTwdkbEOdD",
        "outputId": "2c112bc8-cc5f-4fbb-f93c-0de10aac1418"
      },
      "execution_count": 62,
      "outputs": [
        {
          "name": "stdout",
          "output_type": "stream",
          "text": [
            "Whats your input: colab is good\n"
          ]
        }
      ]
    },
    {
      "cell_type": "code",
      "source": [
        "no_space_string = my_string.replace(\" \", \"\")\n",
        "print(no_space_string)"
      ],
      "metadata": {
        "colab": {
          "base_uri": "https://localhost:8080/"
        },
        "id": "qFJqrskKe9S3",
        "outputId": "6fa77060-b88a-4929-e628-ce7fdf8eff5d"
      },
      "execution_count": 63,
      "outputs": [
        {
          "output_type": "stream",
          "name": "stdout",
          "text": [
            "colabisgood\n"
          ]
        }
      ]
    },
    {
      "cell_type": "code",
      "source": [],
      "metadata": {
        "id": "7KbhsEMWfPlh"
      },
      "execution_count": null,
      "outputs": []
    }
  ]
}